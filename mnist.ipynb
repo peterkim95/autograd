{
 "cells": [
  {
   "cell_type": "code",
   "execution_count": 1,
   "id": "8dae16a5",
   "metadata": {},
   "outputs": [],
   "source": [
    "import matplotlib.pyplot as plt\n",
    "import numpy as np\n",
    "from tqdm import tqdm, trange\n",
    "from torchvision.datasets import MNIST\n",
    "from torchvision.transforms import ToTensor\n",
    "\n",
    "from net import Network\n",
    "from engine import Variable, get_gradients"
   ]
  },
  {
   "cell_type": "code",
   "execution_count": 2,
   "id": "d27a16c2",
   "metadata": {},
   "outputs": [
    {
     "data": {
      "text/plain": [
       "Dataset MNIST\n",
       "    Number of datapoints: 60000\n",
       "    Root location: .\n",
       "    Split: Train"
      ]
     },
     "execution_count": 2,
     "metadata": {},
     "output_type": "execute_result"
    }
   ],
   "source": [
    "dataset = MNIST(root='.', download=True)\n",
    "dataset"
   ]
  },
  {
   "cell_type": "code",
   "execution_count": 3,
   "id": "9f99f267",
   "metadata": {},
   "outputs": [
    {
     "data": {
      "text/plain": [
       "60000"
      ]
     },
     "execution_count": 3,
     "metadata": {},
     "output_type": "execute_result"
    }
   ],
   "source": [
    "len(dataset)"
   ]
  },
  {
   "cell_type": "code",
   "execution_count": 4,
   "id": "e5f29a81",
   "metadata": {},
   "outputs": [
    {
     "data": {
      "image/png": "[encoded data removed]",
      "text/plain": [
       "<PIL.Image.Image image mode=L size=28x28 at 0x12D7599A0>"
      ]
     },
     "execution_count": 4,
     "metadata": {},
     "output_type": "execute_result"
    }
   ],
   "source": [
    "dataset[0][0]"
   ]
  },
  {
   "cell_type": "code",
   "execution_count": 5,
   "id": "aa67e953",
   "metadata": {},
   "outputs": [
    {
     "data": {
      "text/plain": [
       "5"
      ]
     },
     "execution_count": 5,
     "metadata": {},
     "output_type": "execute_result"
    }
   ],
   "source": [
    "dataset[0][1]"
   ]
  },
  {
   "cell_type": "code",
   "execution_count": 6,
   "id": "06facc07",
   "metadata": {},
   "outputs": [
    {
     "data": {
      "text/plain": [
       "(784,)"
      ]
     },
     "execution_count": 6,
     "metadata": {},
     "output_type": "execute_result"
    }
   ],
   "source": [
    "np.array(dataset[0][0]).flatten().shape"
   ]
  },
  {
   "cell_type": "code",
   "execution_count": 7,
   "id": "0a124264",
   "metadata": {},
   "outputs": [],
   "source": [
    "nn = Network(dim=(784,100,10))"
   ]
  },
  {
   "cell_type": "code",
   "execution_count": 8,
   "id": "ae46cc2f",
   "metadata": {},
   "outputs": [],
   "source": [
    "epoch = 3\n",
    "alpha = 0.1\n",
    "batch_size = 32\n"
   ]
  },
  {
   "cell_type": "code",
   "execution_count": 9,
   "id": "4ddbe20f",
   "metadata": {},
   "outputs": [],
   "source": [
    "indices = np.arange(len(dataset))\n"
   ]
  },
  {
   "cell_type": "code",
   "execution_count": 10,
   "id": "b7391b9e",
   "metadata": {},
   "outputs": [
    {
     "name": "stderr",
     "output_type": "stream",
     "text": [
      "\r",
      "  0%|                                                                      | 0/1875 [00:00<?, ?it/s]"
     ]
    },
    {
     "name": "stdout",
     "output_type": "stream",
     "text": [
      "Epoch = 0, Step = 0, J = 23.808246873176984\n"
     ]
    },
    {
     "name": "stderr",
     "output_type": "stream",
     "text": [
      "\r",
      "  0%|                                                           | 1/1875 [01:01<31:55:32, 61.33s/it]"
     ]
    },
    {
     "name": "stdout",
     "output_type": "stream",
     "text": [
      "Epoch = 0, Step = 1, J = 15.022882650581783\n"
     ]
    },
    {
     "name": "stderr",
     "output_type": "stream",
     "text": [
      "\r",
      "  0%|                                                           | 2/1875 [02:08<33:33:09, 64.49s/it]"
     ]
    },
    {
     "name": "stdout",
     "output_type": "stream",
     "text": [
      "Epoch = 0, Step = 2, J = 8.955419836934668\n"
     ]
    },
    {
     "name": "stderr",
     "output_type": "stream",
     "text": [
      "\r",
      "  0%|                                                           | 3/1875 [03:08<32:36:28, 62.71s/it]"
     ]
    },
    {
     "name": "stdout",
     "output_type": "stream",
     "text": [
      "Epoch = 0, Step = 3, J = 4.605395913487546\n"
     ]
    },
    {
     "name": "stderr",
     "output_type": "stream",
     "text": [
      "\r",
      "  0%|▏                                                          | 4/1875 [04:17<33:47:36, 65.02s/it]"
     ]
    },
    {
     "name": "stdout",
     "output_type": "stream",
     "text": [
      "Epoch = 0, Step = 4, J = 1.983293013029725\n"
     ]
    },
    {
     "name": "stderr",
     "output_type": "stream",
     "text": [
      "\r",
      "  0%|▏                                                          | 5/1875 [05:18<33:01:20, 63.57s/it]"
     ]
    },
    {
     "name": "stdout",
     "output_type": "stream",
     "text": [
      "Epoch = 0, Step = 5, J = 1.743167658061768\n"
     ]
    },
    {
     "name": "stderr",
     "output_type": "stream",
     "text": [
      "\r",
      "  0%|▏                                                          | 6/1875 [06:24<33:28:14, 64.47s/it]"
     ]
    },
    {
     "name": "stdout",
     "output_type": "stream",
     "text": [
      "Epoch = 0, Step = 6, J = 1.3941466601566328\n"
     ]
    },
    {
     "name": "stderr",
     "output_type": "stream",
     "text": [
      "\r",
      "  0%|▏                                                          | 7/1875 [07:31<33:56:14, 65.40s/it]"
     ]
    },
    {
     "name": "stdout",
     "output_type": "stream",
     "text": [
      "Epoch = 0, Step = 7, J = 1.240263116532387\n"
     ]
    },
    {
     "name": "stderr",
     "output_type": "stream",
     "text": [
      "  0%|▎                                                          | 8/1875 [08:49<34:18:09, 66.14s/it]\n"
     ]
    },
    {
     "ename": "KeyboardInterrupt",
     "evalue": "",
     "output_type": "error",
     "traceback": [
      "\u001b[0;31m---------------------------------------------------------------------------\u001b[0m",
      "\u001b[0;31mKeyboardInterrupt\u001b[0m                         Traceback (most recent call last)",
      "Input \u001b[0;32mIn [10]\u001b[0m, in \u001b[0;36m<cell line: 2>\u001b[0;34m()\u001b[0m\n\u001b[1;32m     10\u001b[0m     x \u001b[38;5;241m=\u001b[39m np\u001b[38;5;241m.\u001b[39marray(ToTensor()(x))\u001b[38;5;241m.\u001b[39mflatten()\n\u001b[1;32m     11\u001b[0m     x \u001b[38;5;241m=\u001b[39m [Variable(a) \u001b[38;5;28;01mfor\u001b[39;00m a \u001b[38;5;129;01min\u001b[39;00m x]\n\u001b[0;32m---> 13\u001b[0m     output \u001b[38;5;241m=\u001b[39m \u001b[43mnn\u001b[49m\u001b[43m(\u001b[49m\u001b[43mx\u001b[49m\u001b[43m)\u001b[49m\n\u001b[1;32m     14\u001b[0m     J \u001b[38;5;241m+\u001b[39m\u001b[38;5;241m=\u001b[39m \u001b[38;5;241m-\u001b[39moutput[y_true]\u001b[38;5;241m.\u001b[39mln()\n\u001b[1;32m     15\u001b[0m J \u001b[38;5;241m/\u001b[39m\u001b[38;5;241m=\u001b[39m Variable(\u001b[38;5;28mlen\u001b[39m(batch_indices))\n",
      "File \u001b[0;32m~/Documents/autograd/net.py:39\u001b[0m, in \u001b[0;36mNetwork.__call__\u001b[0;34m(self, x)\u001b[0m\n\u001b[1;32m     37\u001b[0m \u001b[38;5;28;01mdef\u001b[39;00m \u001b[38;5;21m__call__\u001b[39m(\u001b[38;5;28mself\u001b[39m, x):\n\u001b[1;32m     38\u001b[0m     \u001b[38;5;28;01mfor\u001b[39;00m layer \u001b[38;5;129;01min\u001b[39;00m \u001b[38;5;28mself\u001b[39m\u001b[38;5;241m.\u001b[39mlayers:\n\u001b[0;32m---> 39\u001b[0m         x \u001b[38;5;241m=\u001b[39m \u001b[43mlayer\u001b[49m\u001b[43m(\u001b[49m\u001b[43mx\u001b[49m\u001b[43m)\u001b[49m\n\u001b[1;32m     40\u001b[0m     x \u001b[38;5;241m=\u001b[39m [a\u001b[38;5;241m.\u001b[39mexp() \u001b[38;5;28;01mfor\u001b[39;00m a \u001b[38;5;129;01min\u001b[39;00m x]\n\u001b[1;32m     41\u001b[0m     denom \u001b[38;5;241m=\u001b[39m Variable(\u001b[38;5;241m0\u001b[39m)\n",
      "File \u001b[0;32m~/Documents/autograd/net.py:26\u001b[0m, in \u001b[0;36mLayer.__call__\u001b[0;34m(self, x)\u001b[0m\n\u001b[1;32m     25\u001b[0m \u001b[38;5;28;01mdef\u001b[39;00m \u001b[38;5;21m__call__\u001b[39m(\u001b[38;5;28mself\u001b[39m, x):\n\u001b[0;32m---> 26\u001b[0m     \u001b[38;5;28;01mreturn\u001b[39;00m [n(x) \u001b[38;5;28;01mfor\u001b[39;00m n \u001b[38;5;129;01min\u001b[39;00m \u001b[38;5;28mself\u001b[39m\u001b[38;5;241m.\u001b[39mneurons]\n",
      "File \u001b[0;32m~/Documents/autograd/net.py:26\u001b[0m, in \u001b[0;36m<listcomp>\u001b[0;34m(.0)\u001b[0m\n\u001b[1;32m     25\u001b[0m \u001b[38;5;28;01mdef\u001b[39;00m \u001b[38;5;21m__call__\u001b[39m(\u001b[38;5;28mself\u001b[39m, x):\n\u001b[0;32m---> 26\u001b[0m     \u001b[38;5;28;01mreturn\u001b[39;00m [\u001b[43mn\u001b[49m\u001b[43m(\u001b[49m\u001b[43mx\u001b[49m\u001b[43m)\u001b[49m \u001b[38;5;28;01mfor\u001b[39;00m n \u001b[38;5;129;01min\u001b[39;00m \u001b[38;5;28mself\u001b[39m\u001b[38;5;241m.\u001b[39mneurons]\n",
      "File \u001b[0;32m~/Documents/autograd/net.py:14\u001b[0m, in \u001b[0;36mNeuron.__call__\u001b[0;34m(self, x)\u001b[0m\n\u001b[1;32m     12\u001b[0m z \u001b[38;5;241m=\u001b[39m \u001b[38;5;28mself\u001b[39m\u001b[38;5;241m.\u001b[39mb\n\u001b[1;32m     13\u001b[0m \u001b[38;5;28;01mfor\u001b[39;00m i \u001b[38;5;129;01min\u001b[39;00m \u001b[38;5;28mrange\u001b[39m(\u001b[38;5;28mlen\u001b[39m(x)):\n\u001b[0;32m---> 14\u001b[0m     z \u001b[38;5;241m+\u001b[39m\u001b[38;5;241m=\u001b[39m \u001b[43mx\u001b[49m\u001b[43m[\u001b[49m\u001b[43mi\u001b[49m\u001b[43m]\u001b[49m\u001b[43m \u001b[49m\u001b[38;5;241;43m*\u001b[39;49m\u001b[43m \u001b[49m\u001b[38;5;28;43mself\u001b[39;49m\u001b[38;5;241;43m.\u001b[39;49m\u001b[43mw\u001b[49m\u001b[43m[\u001b[49m\u001b[43mi\u001b[49m\u001b[43m]\u001b[49m\n\u001b[1;32m     15\u001b[0m \u001b[38;5;28;01mreturn\u001b[39;00m z\u001b[38;5;241m.\u001b[39mrelu()\n",
      "File \u001b[0;32m~/Documents/autograd/engine.py:15\u001b[0m, in \u001b[0;36mVariable.__mul__\u001b[0;34m(self, other)\u001b[0m\n\u001b[1;32m     14\u001b[0m \u001b[38;5;28;01mdef\u001b[39;00m \u001b[38;5;21m__mul__\u001b[39m(\u001b[38;5;28mself\u001b[39m, other):\n\u001b[0;32m---> 15\u001b[0m     \u001b[38;5;28;01mreturn\u001b[39;00m \u001b[43mmul\u001b[49m\u001b[43m(\u001b[49m\u001b[38;5;28;43mself\u001b[39;49m\u001b[43m,\u001b[49m\u001b[43m \u001b[49m\u001b[43mother\u001b[49m\u001b[43m)\u001b[49m\n",
      "File \u001b[0;32m~/Documents/autograd/engine.py:49\u001b[0m, in \u001b[0;36mmul\u001b[0;34m(a, b)\u001b[0m\n\u001b[1;32m     48\u001b[0m \u001b[38;5;28;01mdef\u001b[39;00m \u001b[38;5;21mmul\u001b[39m(a, b):\n\u001b[0;32m---> 49\u001b[0m     value \u001b[38;5;241m=\u001b[39m \u001b[43ma\u001b[49m\u001b[38;5;241;43m.\u001b[39;49m\u001b[43mvalue\u001b[49m\u001b[43m \u001b[49m\u001b[38;5;241;43m*\u001b[39;49m\u001b[43m \u001b[49m\u001b[43mb\u001b[49m\u001b[38;5;241;43m.\u001b[39;49m\u001b[43mvalue\u001b[49m\n\u001b[1;32m     50\u001b[0m     local_gradients \u001b[38;5;241m=\u001b[39m ((a, b\u001b[38;5;241m.\u001b[39mvalue), (b, a\u001b[38;5;241m.\u001b[39mvalue))\n\u001b[1;32m     51\u001b[0m     \u001b[38;5;28;01mreturn\u001b[39;00m Variable(value, local_gradients)\n",
      "\u001b[0;31mKeyboardInterrupt\u001b[0m: "
     ]
    }
   ],
   "source": [
    "Js = []\n",
    "for e in range(epoch):\n",
    "    step = 0\n",
    "    np.random.shuffle(indices)\n",
    "    for i in trange(0, len(dataset), batch_size):\n",
    "        batch_indices = indices[i:i+batch_size]\n",
    "        J = Variable(0)\n",
    "        for j in range(len(batch_indices)):\n",
    "            x, y_true = dataset[j]\n",
    "            x = np.array(ToTensor()(x)).flatten()\n",
    "            x = [Variable(a) for a in x]\n",
    "\n",
    "            output = nn(x)\n",
    "            J += -output[y_true].ln()\n",
    "        J /= Variable(len(batch_indices))\n",
    "        Js.append(J.value)\n",
    "        print(f'Epoch = {e}, Step = {step}, J = {J.value}')\n",
    "        gradients = get_gradients(J)\n",
    "        # update weights\n",
    "        for layer_params in nn.parameters():\n",
    "            for neuron_params in layer_params:\n",
    "                for weight in neuron_params:\n",
    "                    weight.value -= alpha * gradients[weight]\n",
    "        step += 1\n"
   ]
  },
  {
   "cell_type": "code",
   "execution_count": 11,
   "id": "e084e588",
   "metadata": {},
   "outputs": [
    {
     "name": "stdout",
     "output_type": "stream",
     "text": [
      "actual 5 predicted 0\n",
      "actual 0 predicted 0\n",
      "actual 4 predicted 4\n",
      "actual 1 predicted 1\n",
      "actual 9 predicted 1\n",
      "actual 2 predicted 2\n",
      "actual 1 predicted 1\n",
      "actual 3 predicted 0\n",
      "actual 1 predicted 1\n",
      "actual 4 predicted 4\n"
     ]
    }
   ],
   "source": [
    "for i in range(10):\n",
    "    x, y_true = dataset[i]\n",
    "    \n",
    "    x = np.array(ToTensor()(x)).flatten()\n",
    "    x = [Variable(a) for a in x]\n",
    "\n",
    "    output = nn(x)\n",
    "#     print(output)\n",
    "    print('actual', y_true, 'predicted', np.argmax([a.value for a in output]))\n",
    "    "
   ]
  },
  {
   "cell_type": "code",
   "execution_count": 12,
   "id": "ab7d6e32",
   "metadata": {},
   "outputs": [],
   "source": [
    "test_dataset = MNIST(root='.', download=True, train=False)"
   ]
  },
  {
   "cell_type": "code",
   "execution_count": 13,
   "id": "7169a347",
   "metadata": {},
   "outputs": [
    {
     "data": {
      "text/plain": [
       "10000"
      ]
     },
     "execution_count": 13,
     "metadata": {},
     "output_type": "execute_result"
    }
   ],
   "source": [
    "len(test_dataset)"
   ]
  },
  {
   "cell_type": "code",
   "execution_count": null,
   "id": "1414aceb",
   "metadata": {},
   "outputs": [],
   "source": [
    "for i in range(10):\n",
    "    x, y_true = test_dataset[i]\n",
    "    \n",
    "    x = np.array(ToTensor()(x)).flatten()\n",
    "    x = [Variable(a) for a in x]\n",
    "\n",
    "    output = nn(x)\n",
    "#     print(output)\n",
    "    print('actual', y_true, 'predicted', np.argmax([a.value for a in output]))\n",
    "    "
   ]
  },
  {
   "cell_type": "code",
   "execution_count": 16,
   "id": "dd8b5131",
   "metadata": {},
   "outputs": [
    {
     "data": {
      "image/png": "[encoded data removed]",
      "text/plain": [
       "<Figure size 432x288 with 1 Axes>"
      ]
     },
     "metadata": {
      "needs_background": "light"
     },
     "output_type": "display_data"
    }
   ],
   "source": [
    "plt.plot(Js)\n",
    "plt.show()"
   ]
  },
  {
   "cell_type": "code",
   "execution_count": null,
   "id": "971f180b",
   "metadata": {},
   "outputs": [],
   "source": []
  }
 ],
 "metadata": {
  "kernelspec": {
   "display_name": "torch",
   "language": "python",
   "name": "torch"
  },
  "language_info": {
   "codemirror_mode": {
    "name": "ipython",
    "version": 3
   },
   "file_extension": ".py",
   "mimetype": "text/x-python",
   "name": "python",
   "nbconvert_exporter": "python",
   "pygments_lexer": "ipython3",
   "version": "3.9.12"
  }
 },
 "nbformat": 4,
 "nbformat_minor": 5
}
